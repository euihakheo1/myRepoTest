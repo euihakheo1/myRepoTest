{
  "nbformat": 4,
  "nbformat_minor": 0,
  "metadata": {
    "colab": {
      "provenance": [],
      "authorship_tag": "ABX9TyNIVpeCtqZS+ZPhIJi/lcnE",
      "include_colab_link": true
    },
    "kernelspec": {
      "name": "python3",
      "display_name": "Python 3"
    },
    "language_info": {
      "name": "python"
    }
  },
  "cells": [
    {
      "cell_type": "markdown",
      "metadata": {
        "id": "view-in-github",
        "colab_type": "text"
      },
      "source": [
        "<a href=\"https://colab.research.google.com/github/euihakheo1/myRepoTest/blob/main/python_code.ipynb\" target=\"_parent\"><img src=\"https://colab.research.google.com/assets/colab-badge.svg\" alt=\"Open In Colab\"/></a>"
      ]
    },
    {
      "cell_type": "code",
      "execution_count": 2,
      "metadata": {
        "id": "4kUb3ahrT2Vq"
      },
      "outputs": [],
      "source": [
        "result = 5\n",
        "def add(num):\n",
        "    global result\n",
        "\n",
        "    print(result)\n",
        "    result = 0\n",
        "    # result += num # 결과값 (result)에 입력값(num) 더하기\n",
        "    # return result # 결과값 리턴\n",
        "\n",
        "# print(add(3))\n",
        "# print(add(4))\n",
        "\n"
      ]
    },
    {
      "cell_type": "code",
      "source": [
        "add(1)\n",
        "print(result)"
      ],
      "metadata": {
        "colab": {
          "base_uri": "https://localhost:8080/"
        },
        "id": "mZT8COj4UQsH",
        "outputId": "a4d1ddef-360f-48ce-db38-810df5ddfe58"
      },
      "execution_count": 3,
      "outputs": [
        {
          "output_type": "stream",
          "name": "stdout",
          "text": [
            "5\n",
            "0\n"
          ]
        }
      ]
    },
    {
      "cell_type": "code",
      "source": [
        "result = 0\n",
        "\n",
        "def add():\n",
        "    global result\n",
        "    global num\n",
        "    result += num # 결과값 (result)에 입력값(num) 더하기\n",
        "    return result # 결과값 리턴\n",
        "\n",
        "def sub():\n",
        "    global result\n",
        "    global num\n",
        "    result -= num # 결과값(result)에 입력값(num) 더하기\n",
        "    return result # 결과값 리턴\n",
        "\n",
        "num = 3\n",
        "print(add())\n",
        "num = 4\n",
        "print(add())"
      ],
      "metadata": {
        "colab": {
          "base_uri": "https://localhost:8080/"
        },
        "id": "PgSvtmUgUWfN",
        "outputId": "1177805f-00c0-4b75-f52f-812ac7e1d0f9"
      },
      "execution_count": 4,
      "outputs": [
        {
          "output_type": "stream",
          "name": "stdout",
          "text": [
            "3\n",
            "7\n"
          ]
        }
      ]
    },
    {
      "cell_type": "code",
      "source": [
        "# 클래스안에는 구성 요소 2가지\n",
        "# 클래스 멤버 함수\n",
        "# 클래스 멤버 변수\n",
        "class Calculator:\n",
        "    # 클래스의 생성자\n",
        "    def __init__(self):\n",
        "        # self.변수명 -> 클래스안에서의 전역변수 선언\n",
        "        self.result = 0\n",
        "\n",
        "    def add(self, num):\n",
        "        self.result += num\n",
        "        return self.result\n",
        "\n",
        "    def sub(self, num):\n",
        "        self.result -= num\n",
        "        return self.result"
      ],
      "metadata": {
        "id": "BU5sm543Wl4U"
      },
      "execution_count": 5,
      "outputs": []
    },
    {
      "cell_type": "code",
      "source": [
        "# 클래스의 객체 생성\n",
        "# 생성시에 __init__함수를 호출\n",
        "cal1 = Calculator()\n",
        "cal2 = Calculator()\n",
        "\n",
        "result1 = cal1.add(3)\n",
        "result1 = cal1.add(4)\n",
        "result1 = cal1.sub(3)\n",
        "print(result1)\n",
        "\n",
        "\n"
      ],
      "metadata": {
        "colab": {
          "base_uri": "https://localhost:8080/"
        },
        "id": "m_G5cokXWUoR",
        "outputId": "096065c7-8e4a-48d2-ba91-34b5020022c6"
      },
      "execution_count": 6,
      "outputs": [
        {
          "output_type": "stream",
          "name": "stdout",
          "text": [
            "4\n"
          ]
        }
      ]
    },
    {
      "cell_type": "code",
      "source": [
        "# 멤버 변수는 멤버 함수를 통해서 값에 대한 업데이트를 시킬 수 있음\n",
        "# 멤버 함수\n",
        "class Calculator():\n",
        "    def __init__(self):\n",
        "        self.result = 0\n",
        "        self.op1 = 0\n",
        "        self.op2 = 0\n",
        "\n",
        "    def valueIn(self, op1, op2):\n",
        "        self.op1 = op1\n",
        "        self.op2 = op2\n",
        "\n",
        "    def print(self):\n",
        "        print(self.result)\n",
        "\n",
        "    def add(self):\n",
        "        self.result = self.op1 + self.op2"
      ],
      "metadata": {
        "id": "oqw7RIGoYNze"
      },
      "execution_count": 7,
      "outputs": []
    },
    {
      "cell_type": "code",
      "source": [
        "cal1 = Calculator()\n",
        "\n",
        "cal1.valueIn(3,4)\n",
        "cal1.add()\n",
        "cal1.print()"
      ],
      "metadata": {
        "colab": {
          "base_uri": "https://localhost:8080/"
        },
        "id": "XIySPZ5aaOJv",
        "outputId": "f4bde7f6-4f4d-46b2-a6ad-7d994c7ac9c7"
      },
      "execution_count": 8,
      "outputs": [
        {
          "output_type": "stream",
          "name": "stdout",
          "text": [
            "7\n"
          ]
        }
      ]
    },
    {
      "cell_type": "code",
      "source": [
        "#창 띄우기.\n",
        "!pip install PyQt5\n",
        "import sys\n",
        "from PyQt5.QtWidgets import QApplication, QWidget\n",
        "\n",
        "\n",
        "class MyApp(QWidget):\n",
        "\n",
        "    def __init__(self):\n",
        "        super().__init__()\n",
        "        self.initUI()\n",
        "\n",
        "    def initUI(self):\n",
        "        self.setWindowTitle('My First Application')\n",
        "        self.move(300, 300)\n",
        "        self.resize(400, 200)\n",
        "        self.show()\n",
        "\n",
        "\n",
        "if __name__ == '__main__':\n",
        "   app = QApplication(sys.argv)\n",
        "   ex = MyApp()\n",
        "   sys.exit(app.exec_())\n"
      ],
      "metadata": {
        "colab": {
          "base_uri": "https://localhost:8080/"
        },
        "id": "Xf_cTwm-cVhT",
        "outputId": "017b06df-1bf1-4e28-c56d-37c0c0389db9"
      },
      "execution_count": null,
      "outputs": [
        {
          "output_type": "stream",
          "name": "stdout",
          "text": [
            "Collecting PyQt5\n",
            "  Downloading PyQt5-5.15.9-cp37-abi3-manylinux_2_17_x86_64.whl (8.4 MB)\n",
            "\u001b[2K     \u001b[90m━━━━━━━━━━━━━━━━━━━━━━━━━━━━━━━━━━━━━━━━\u001b[0m \u001b[32m8.4/8.4 MB\u001b[0m \u001b[31m50.4 MB/s\u001b[0m eta \u001b[36m0:00:00\u001b[0m\n",
            "\u001b[?25hCollecting PyQt5-sip<13,>=12.11 (from PyQt5)\n",
            "  Downloading PyQt5_sip-12.12.2-cp310-cp310-manylinux_2_5_x86_64.manylinux1_x86_64.whl (337 kB)\n",
            "\u001b[2K     \u001b[90m━━━━━━━━━━━━━━━━━━━━━━━━━━━━━━━━━━━━━━\u001b[0m \u001b[32m337.9/337.9 kB\u001b[0m \u001b[31m30.3 MB/s\u001b[0m eta \u001b[36m0:00:00\u001b[0m\n",
            "\u001b[?25hCollecting PyQt5-Qt5>=5.15.2 (from PyQt5)\n",
            "  Downloading PyQt5_Qt5-5.15.2-py3-none-manylinux2014_x86_64.whl (59.9 MB)\n",
            "\u001b[2K     \u001b[90m━━━━━━━━━━━━━━━━━━━━━━━━━━━━━━━━━━━━━━━━\u001b[0m \u001b[32m59.9/59.9 MB\u001b[0m \u001b[31m12.8 MB/s\u001b[0m eta \u001b[36m0:00:00\u001b[0m\n",
            "\u001b[?25hInstalling collected packages: PyQt5-Qt5, PyQt5-sip, PyQt5\n",
            "Successfully installed PyQt5-5.15.9 PyQt5-Qt5-5.15.2 PyQt5-sip-12.12.2\n"
          ]
        }
      ]
    },
    {
      "cell_type": "code",
      "source": [],
      "metadata": {
        "id": "1bO3EATOPJ7f"
      },
      "execution_count": null,
      "outputs": []
    }
  ]
}