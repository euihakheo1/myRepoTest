{
  "nbformat": 4,
  "nbformat_minor": 0,
  "metadata": {
    "colab": {
      "provenance": [],
      "include_colab_link": true
    },
    "kernelspec": {
      "name": "python3",
      "display_name": "Python 3"
    }
  },
  "cells": [
    {
      "cell_type": "markdown",
      "metadata": {
        "id": "view-in-github",
        "colab_type": "text"
      },
      "source": [
        "<a href=\"https://colab.research.google.com/github/euihakheo1/myRepoTest/blob/main/3_python_%E1%84%8C%E1%85%AE%E1%84%89%E1%85%A5%E1%86%A8%E1%84%80%E1%85%AA%E1%84%83%E1%85%B3%E1%86%AF%E1%84%8B%E1%85%A7%E1%84%8A%E1%85%B3%E1%84%80%E1%85%B5_%E1%84%92%E1%85%A1%E1%86%B7%E1%84%89%E1%85%AE.ipynb\" target=\"_parent\"><img src=\"https://colab.research.google.com/assets/colab-badge.svg\" alt=\"Open In Colab\"/></a>"
      ]
    },
    {
      "cell_type": "markdown",
      "metadata": {
        "id": "4_PsJAIhA8rM"
      },
      "source": [
        "#1. 주석"
      ]
    },
    {
      "cell_type": "markdown",
      "metadata": {
        "id": "05GwQrZsPkRu"
      },
      "source": [
        "# 1-1 서브"
      ]
    },
    {
      "cell_type": "markdown",
      "metadata": {
        "id": "CZsnlpYlBJ8z"
      },
      "source": [
        "# '#' 뒤에 한칸 띄어 코멘트를 넣어줍니다.\n",
        "\n",
        "\n",
        "\n",
        "\n"
      ]
    },
    {
      "cell_type": "code",
      "metadata": {
        "id": "ovRN-UGdBG29",
        "colab": {
          "base_uri": "https://localhost:8080/"
        },
        "outputId": "5030806e-15bf-4ec1-ccd9-0ab2ca906a49"
      },
      "source": [
        "# 코멘트를 달아줍니다.\n",
        "a = 3\n",
        "b = 4\n",
        "\n",
        "# a + b 연산을 수행 합니다\n",
        "print(a + b)"
      ],
      "execution_count": null,
      "outputs": [
        {
          "output_type": "stream",
          "text": [
            "7\n"
          ],
          "name": "stdout"
        }
      ]
    },
    {
      "cell_type": "markdown",
      "metadata": {
        "id": "y77PEp5xBU-R"
      },
      "source": [
        "## 2. indent"
      ]
    },
    {
      "cell_type": "markdown",
      "metadata": {
        "id": "ImrpMfwMBYy1"
      },
      "source": [
        "indent(들여쓰기)는 파이썬에서 굉장히 중요합니다.\n",
        "\n",
        "단순히, 코드를 깔끔히 정리하기 위해서 들여쓰기를 하는 것은 아닙니다."
      ]
    },
    {
      "cell_type": "markdown",
      "metadata": {
        "id": "T4eoKQIuBw9q"
      },
      "source": [
        "* 본인이 맞게 코드를 짰다고 한다면, indent는 colab에서 자동으로 해줄 것입니다.\n",
        "* [tab]키를 한 번 누르면 indent가 1번 한 효과입니다."
      ]
    },
    {
      "cell_type": "markdown",
      "metadata": {
        "id": "W2Xy1do1B2nh"
      },
      "source": [
        "**indent 옵션**을 space * 4 개로 바꿔봅시다"
      ]
    },
    {
      "cell_type": "markdown",
      "metadata": {
        "id": "SP_jwt-YB-2O"
      },
      "source": [
        "**[우측상단 톱니바퀴] - 편집기 - 들여쓰기 - 4 로 바꿔봅시다**"
      ]
    },
    {
      "cell_type": "markdown",
      "metadata": {
        "id": "SQznenyqBirw"
      },
      "source": [
        "### 2-1. 콜론(:) 다음에 반드시 들여쓰기를 부여합니다."
      ]
    },
    {
      "cell_type": "code",
      "source": [
        "a=10\n",
        "if a==10:\n",
        "    print('Hi')"
      ],
      "metadata": {
        "colab": {
          "base_uri": "https://localhost:8080/"
        },
        "id": "vt3UKaty9RvP",
        "outputId": "46415db8-2e36-4eef-803f-b68e9c912e3b"
      },
      "execution_count": 2,
      "outputs": [
        {
          "output_type": "stream",
          "name": "stdout",
          "text": [
            "Hi\n"
          ]
        }
      ]
    },
    {
      "cell_type": "code",
      "source": [
        "def adder(a, b):\n",
        "    result = a+b\n",
        "\n",
        "    return result\n",
        "\n",
        "myResult = adder(3,4)\n",
        "print(myResult)"
      ],
      "metadata": {
        "colab": {
          "base_uri": "https://localhost:8080/"
        },
        "id": "mYaLiT2t-Xc5",
        "outputId": "fdd1aa36-71e6-474c-8371-e08dd1d3569e"
      },
      "execution_count": 5,
      "outputs": [
        {
          "output_type": "stream",
          "name": "stdout",
          "text": [
            "None\n"
          ]
        }
      ]
    },
    {
      "cell_type": "code",
      "source": [
        "# adder , suber , muler, diver\n",
        "def adder(a,b):\n",
        "    return a+b\n",
        "\n",
        "def suber(a, b, c=0):\n",
        "    return a-b-c\n",
        "\n",
        "def muler(a,b):\n",
        "    return (a*b)\n",
        "\n",
        "def diver(a,b):\n",
        "    return (a/b)\n",
        "\n",
        "print(adder(3,4))"
      ],
      "metadata": {
        "colab": {
          "base_uri": "https://localhost:8080/"
        },
        "id": "6hD-Ol5m_Riw",
        "outputId": "e66dad51-d03a-4f21-f927-439728f65d39"
      },
      "execution_count": 24,
      "outputs": [
        {
          "output_type": "stream",
          "name": "stdout",
          "text": [
            "7\n"
          ]
        }
      ]
    },
    {
      "cell_type": "code",
      "source": [],
      "metadata": {
        "colab": {
          "base_uri": "https://localhost:8080/"
        },
        "outputId": "fdd1aa36-71e6-474c-8371-e08dd1d3569e",
        "id": "Yln-lN-1B7fm"
      },
      "execution_count": null,
      "outputs": [
        {
          "output_type": "stream",
          "name": "stdout",
          "text": [
            "None\n"
          ]
        }
      ]
    },
    {
      "cell_type": "code",
      "metadata": {
        "id": "WRojM7iFBsbN"
      },
      "source": [
        "# 함수의 본문은 들여쓰기를 한번 적용합니다.\n",
        "def my_func():\n",
        "    print('indent가 자동으로 되나요?')"
      ],
      "execution_count": 3,
      "outputs": []
    },
    {
      "cell_type": "markdown",
      "metadata": {
        "id": "s1PPG6ciCUHG"
      },
      "source": [
        "### 2-2. 들여쓰기가 잘못될 경우 에러가 발생합니다"
      ]
    },
    {
      "cell_type": "code",
      "metadata": {
        "id": "u8kcH6UBCQwC",
        "colab": {
          "base_uri": "https://localhost:8080/",
          "height": 134
        },
        "outputId": "017bd187-f519-41d9-c24a-39b0c67c8aae"
      },
      "source": [
        "a = 3\n",
        "    b = 4"
      ],
      "execution_count": null,
      "outputs": [
        {
          "output_type": "error",
          "ename": "IndentationError",
          "evalue": "ignored",
          "traceback": [
            "\u001b[0;36m  File \u001b[0;32m\"<ipython-input-3-a09cf6cf6487>\"\u001b[0;36m, line \u001b[0;32m2\u001b[0m\n\u001b[0;31m    b = 4\u001b[0m\n\u001b[0m    ^\u001b[0m\n\u001b[0;31mIndentationError\u001b[0m\u001b[0;31m:\u001b[0m unexpected indent\n"
          ]
        }
      ]
    },
    {
      "cell_type": "code",
      "metadata": {
        "id": "rqZ98iOgCkcl"
      },
      "source": [
        "a = 3\n",
        "b = 4"
      ],
      "execution_count": 9,
      "outputs": []
    },
    {
      "cell_type": "markdown",
      "metadata": {
        "id": "8zTsAmYWqBNY"
      },
      "source": [
        "## 3. 함수란 무엇일까요?"
      ]
    },
    {
      "cell_type": "markdown",
      "metadata": {
        "id": "tbJqSUrbqEOh"
      },
      "source": [
        "\n",
        "반복적으로 사용되는 부분을 묶어서,  \n",
        "코드를 **재사용 가능**하도록 만들어 주는 코드 집합\n",
        "함수에는 **input**이 있고,  \n",
        "**output(return)**이 있습니다.  \n",
        "정해진 로직(규칙)에 따라, input -> output으로 효율적으로 바꿔주는 역할을 합니다"
      ]
    },
    {
      "cell_type": "code",
      "metadata": {
        "id": "DDJoGqm8qBz3"
      },
      "source": [
        "a = 1\n",
        "b = 2\n",
        "c = 3"
      ],
      "execution_count": null,
      "outputs": []
    },
    {
      "cell_type": "code",
      "metadata": {
        "id": "5IE8wMKrqSbD",
        "colab": {
          "base_uri": "https://localhost:8080/"
        },
        "outputId": "e8548da0-4e9e-4875-a8e0-b06b8756233a"
      },
      "source": [
        "(a + b) * c"
      ],
      "execution_count": null,
      "outputs": [
        {
          "output_type": "execute_result",
          "data": {
            "text/plain": [
              "9"
            ]
          },
          "metadata": {
            "tags": []
          },
          "execution_count": 13
        }
      ]
    },
    {
      "cell_type": "code",
      "source": [
        "## 리턴값이 2개인 함수\n",
        "def myCalc(a,b):\n",
        "    return (a+b), (a-b)\n",
        "\n",
        "op1 = 5\n",
        "op2 = 3"
      ],
      "metadata": {
        "id": "stYTaGn9V6Zb"
      },
      "execution_count": null,
      "outputs": []
    },
    {
      "cell_type": "code",
      "source": [
        "# tuple로 리턴값 받기\n",
        "result = myCalc(op1, op2)\n",
        "print(result)\n",
        "print(type(result))"
      ],
      "metadata": {
        "colab": {
          "base_uri": "https://localhost:8080/"
        },
        "id": "PBS9brXhWeqP",
        "outputId": "8aceec4e-a907-42af-9f9b-2a5cc1744616"
      },
      "execution_count": null,
      "outputs": [
        {
          "output_type": "stream",
          "name": "stdout",
          "text": [
            "(8, 2)\n",
            "<class 'tuple'>\n"
          ]
        }
      ]
    },
    {
      "cell_type": "code",
      "source": [
        "# tuple로 받지 않고 각각의 변수로 받기\n",
        "resultAdd, resultSub = myCalc(op1, op2)\n",
        "print(type(resultAdd), type(resultSub))"
      ],
      "metadata": {
        "colab": {
          "base_uri": "https://localhost:8080/"
        },
        "id": "A3xVFpE9WiUc",
        "outputId": "58050158-dde9-40ac-f9f5-76cf1578cf2d"
      },
      "execution_count": null,
      "outputs": [
        {
          "output_type": "stream",
          "name": "stdout",
          "text": [
            "<class 'int'> <class 'int'>\n"
          ]
        }
      ]
    },
    {
      "cell_type": "code",
      "source": [
        "def calc(a,b):\n",
        "    result1 = a+b\n",
        "    result2 = a-b\n",
        "    return result1, result2\n",
        "\n",
        "addResult, _ = calc(3,4)\n",
        "print(addResult)"
      ],
      "metadata": {
        "colab": {
          "base_uri": "https://localhost:8080/"
        },
        "id": "v3ik644sDAWH",
        "outputId": "d50348ce-f145-4341-bf85-bd1855871d36"
      },
      "execution_count": 30,
      "outputs": [
        {
          "output_type": "stream",
          "name": "stdout",
          "text": [
            "7\n"
          ]
        }
      ]
    },
    {
      "cell_type": "code",
      "source": [
        "# tuple로 받지 않고 각각의 변수로 받는데 2번째 return값은 '_'는 버리기\n",
        "resultAdd, _ = myCalc(op1, op2)\n",
        "print(resultAdd)"
      ],
      "metadata": {
        "colab": {
          "base_uri": "https://localhost:8080/"
        },
        "id": "vH5rjFUcW1xP",
        "outputId": "71265033-c77e-47cb-a116-52b1512045c9"
      },
      "execution_count": null,
      "outputs": [
        {
          "output_type": "stream",
          "name": "stdout",
          "text": [
            "8\n"
          ]
        }
      ]
    },
    {
      "cell_type": "code",
      "metadata": {
        "id": "f9kitt9VqUAh"
      },
      "source": [
        "def calc(a, b, c):\n",
        "    return (a + b) * c"
      ],
      "execution_count": null,
      "outputs": []
    },
    {
      "cell_type": "code",
      "source": [
        "def valueInput():\n",
        "    op1 = input()\n",
        "    print(\"op1:\",op1)\n",
        "    op2 = input()\n",
        "    print(\"op2:\",op2)\n",
        "    return float(op1), float(op2)\n",
        "\n",
        "\n",
        "## 리턴값이 4개인 함수\n",
        "def myCalcAll(a,b):\n",
        "    return (a+b), (a-b), (a*b), (a/b)\n",
        "\n",
        "def resultDisplay(result):\n",
        "    print(\"{}+{}={}\".format(op1,op2,result[0]))\n",
        "    print(\"{}-{}={}\".format(op1,op2,result[1]))\n",
        "    print(\"{}*{}={}\".format(op1,op2,result[2]))\n",
        "    print(\"{}/{}={}\".format(op1,op2,result[3]))"
      ],
      "metadata": {
        "id": "2skhpmOJa_7L"
      },
      "execution_count": 31,
      "outputs": []
    },
    {
      "cell_type": "code",
      "source": [
        "# 4칙연산을 하는 함수를 만드시오. +,-,*,/\n",
        "# 입력값은 키보드로 입력받으시오. 입력값의 갯수는 2개\n",
        "# myCalc함수를 만드시오. 리턴값은 4개를 돌려주어야 합니다.\n",
        "\n",
        "# 1. 키보드로 부터 값을 입력받기\n",
        "op1, op2 = valueInput()\n",
        "\n",
        "# 2. 사칙연산하기\n",
        "result = myCalcAll(op1, op2)\n",
        "\n",
        "# 3. 결과값 출력하기\n",
        "resultDisplay(result)"
      ],
      "metadata": {
        "colab": {
          "base_uri": "https://localhost:8080/"
        },
        "id": "HL3acP5EXhDX",
        "outputId": "65bafac6-d1ec-4266-a3f0-e52bc6aba63c"
      },
      "execution_count": null,
      "outputs": [
        {
          "output_type": "stream",
          "name": "stdout",
          "text": [
            "10\n",
            "op1: 10\n",
            "5\n",
            "op2: 5\n",
            "10.0+5.0=15.0\n",
            "10.0-5.0=5.0\n",
            "10.0*5.0=50.0\n",
            "10.0/5.0=2.0\n"
          ]
        }
      ]
    },
    {
      "cell_type": "code",
      "metadata": {
        "id": "voEbemT3qVW3",
        "colab": {
          "base_uri": "https://localhost:8080/"
        },
        "outputId": "42896ffe-b6dc-40a9-d333-2a7533b0b78b"
      },
      "source": [
        "calc(1, 2, 3)"
      ],
      "execution_count": null,
      "outputs": [
        {
          "output_type": "execute_result",
          "data": {
            "text/plain": [
              "9"
            ]
          },
          "metadata": {},
          "execution_count": 6
        }
      ]
    },
    {
      "cell_type": "code",
      "metadata": {
        "id": "3Suzc7_DqWs9",
        "colab": {
          "base_uri": "https://localhost:8080/"
        },
        "outputId": "a46fed56-8f62-4e73-a1f2-a8c8cd75ebfd"
      },
      "source": [
        "calc(2, 2, 3)"
      ],
      "execution_count": null,
      "outputs": [
        {
          "output_type": "execute_result",
          "data": {
            "text/plain": [
              "12"
            ]
          },
          "metadata": {
            "tags": []
          },
          "execution_count": 16
        }
      ]
    },
    {
      "cell_type": "code",
      "metadata": {
        "id": "u-LmNhpLqX5L",
        "colab": {
          "base_uri": "https://localhost:8080/"
        },
        "outputId": "e3385098-6838-4d7e-b99c-c0247ae48100"
      },
      "source": [
        "calc(3, 2, 3)"
      ],
      "execution_count": null,
      "outputs": [
        {
          "output_type": "execute_result",
          "data": {
            "text/plain": [
              "15"
            ]
          },
          "metadata": {
            "tags": []
          },
          "execution_count": 17
        }
      ]
    },
    {
      "cell_type": "markdown",
      "metadata": {
        "id": "QfRVukagqg1b"
      },
      "source": [
        "## 4.def **함수이름** (parameter1, parameter2, parameter...)**:**"
      ]
    },
    {
      "cell_type": "code",
      "metadata": {
        "id": "f5P0KvhuqkOa"
      },
      "source": [
        "def my_func(var1):\n",
        "    print(var1)"
      ],
      "execution_count": 34,
      "outputs": []
    },
    {
      "cell_type": "code",
      "metadata": {
        "id": "3cEOFcgfqpmG",
        "colab": {
          "base_uri": "https://localhost:8080/"
        },
        "outputId": "eea2ae09-7057-4e97-9b33-cfc3a2492590"
      },
      "source": [
        "my_func(\"What's up?\")\n"
      ],
      "execution_count": 36,
      "outputs": [
        {
          "output_type": "stream",
          "name": "stdout",
          "text": [
            "What's up?\n"
          ]
        }
      ]
    },
    {
      "cell_type": "markdown",
      "metadata": {
        "id": "BdxBemdFqsZE"
      },
      "source": [
        "## 5. 함수는 값을 리턴할 수 있고, 린턴이 없어도 됩니다."
      ]
    },
    {
      "cell_type": "code",
      "metadata": {
        "id": "CFPGwEeeqwRg"
      },
      "source": [
        "# 리턴이 없는 경우\n",
        "def my_func(a, b):\n",
        "    print(a, b)"
      ],
      "execution_count": null,
      "outputs": []
    },
    {
      "cell_type": "code",
      "metadata": {
        "id": "sp6vzcGmqzVx",
        "colab": {
          "base_uri": "https://localhost:8080/"
        },
        "outputId": "5c673b17-a411-4bdb-9c13-adc3b05b33ab"
      },
      "source": [
        "my_func(1, 10)"
      ],
      "execution_count": null,
      "outputs": [
        {
          "output_type": "stream",
          "text": [
            "1 10\n"
          ],
          "name": "stdout"
        }
      ]
    },
    {
      "cell_type": "code",
      "metadata": {
        "id": "3Q5NsRPPq1EX"
      },
      "source": [
        "# 리턴이 있는 경우\n",
        "def my_func(a, b):\n",
        "    s = a + b\n",
        "    return s"
      ],
      "execution_count": null,
      "outputs": []
    },
    {
      "cell_type": "code",
      "metadata": {
        "id": "cZNZitlwq34q",
        "colab": {
          "base_uri": "https://localhost:8080/"
        },
        "outputId": "22bf35c8-71a8-4053-fde3-ad08405f2eee"
      },
      "source": [
        "result = my_func(1, 10)\n",
        "print(result)"
      ],
      "execution_count": null,
      "outputs": [
        {
          "output_type": "stream",
          "text": [
            "11\n"
          ],
          "name": "stdout"
        }
      ]
    },
    {
      "cell_type": "markdown",
      "metadata": {
        "id": "COEwJyGdrK0e"
      },
      "source": [
        "## 6. parameter는 여러 개가 가능하고, 함수에 넘겨 줄 때 순서가 있습니다."
      ]
    },
    {
      "cell_type": "code",
      "metadata": {
        "id": "noLjGn55q7ff"
      },
      "source": [
        "def my_func(a, b, c):\n",
        "    return (a + b) * c"
      ],
      "execution_count": null,
      "outputs": []
    },
    {
      "cell_type": "code",
      "metadata": {
        "id": "XgseBW72rN4B"
      },
      "source": [
        "a = 10\n",
        "b = 20\n",
        "c = 3"
      ],
      "execution_count": null,
      "outputs": []
    },
    {
      "cell_type": "code",
      "metadata": {
        "id": "1xJAqqlFrPMo",
        "colab": {
          "base_uri": "https://localhost:8080/"
        },
        "outputId": "5433f333-147a-422c-b1c4-067836b453d8"
      },
      "source": [
        "(a + b) * c"
      ],
      "execution_count": null,
      "outputs": [
        {
          "output_type": "execute_result",
          "data": {
            "text/plain": [
              "90"
            ]
          },
          "metadata": {
            "tags": []
          },
          "execution_count": 26
        }
      ]
    },
    {
      "cell_type": "code",
      "metadata": {
        "id": "zrcHiY9KrQXP",
        "colab": {
          "base_uri": "https://localhost:8080/"
        },
        "outputId": "fbf92fb8-bd94-40f4-871b-2c6d318696fa"
      },
      "source": [
        "my_func(c, b, a)"
      ],
      "execution_count": null,
      "outputs": [
        {
          "output_type": "execute_result",
          "data": {
            "text/plain": [
              "230"
            ]
          },
          "metadata": {
            "tags": []
          },
          "execution_count": 27
        }
      ]
    },
    {
      "cell_type": "code",
      "metadata": {
        "id": "zbING47mrR4g",
        "colab": {
          "base_uri": "https://localhost:8080/"
        },
        "outputId": "d284d193-4b9b-4dfc-a976-edf507f38e12"
      },
      "source": [
        "my_func(a, b, c)"
      ],
      "execution_count": null,
      "outputs": [
        {
          "output_type": "execute_result",
          "data": {
            "text/plain": [
              "90"
            ]
          },
          "metadata": {
            "tags": []
          },
          "execution_count": 28
        }
      ]
    },
    {
      "cell_type": "markdown",
      "source": [
        "### 1. 1~100000까지 더하는 함수를 만드시오.\n",
        "### 2. 키보드로 두 값을 입력을 받습니다. 시작값,끝값을 입력을 받아서 그 사이의 숫자를 더하는 함수를 만드시오."
      ],
      "metadata": {
        "id": "fwNQ0D11hqdY"
      }
    },
    {
      "cell_type": "code",
      "metadata": {
        "id": "4PgPfRkcraao",
        "colab": {
          "base_uri": "https://localhost:8080/"
        },
        "outputId": "b8bd29a3-28d9-4712-ad91-01ec8382a340"
      },
      "source": [
        "# 1. 1~100000까지 더하는 함수를 만드시오.\n",
        "\n",
        "sValue = 1\n",
        "eValue = 100000\n",
        "\n",
        "sum = 0\n",
        "for i in range(sValue,eValue+1):\n",
        "    sum += i\n",
        "\n",
        "print(sum)"
      ],
      "execution_count": null,
      "outputs": [
        {
          "output_type": "stream",
          "name": "stdout",
          "text": [
            "5000050000\n"
          ]
        }
      ]
    },
    {
      "cell_type": "code",
      "source": [
        "def rangeInput():\n",
        "    start = input()\n",
        "    print(\"start:\",start)\n",
        "    stop = input()\n",
        "    print(\"stop:\",stop)\n",
        "    return int(start), int(stop)\n",
        "\n",
        "\n",
        "## 리턴값이 4개인 함수\n",
        "def sumAll(start,stop):\n",
        "    sum = 0\n",
        "    for i in range(start,stop+1):\n",
        "        sum += i\n",
        "\n",
        "    return sum\n",
        "\n",
        "def resultDisplay(start,stop,result):\n",
        "    print(\"start : {}\".format(start))\n",
        "    print(\"stop  : {}\".format(stop))\n",
        "    print(\"result: {}\".format(result))\n"
      ],
      "metadata": {
        "id": "-f7qMOSDjmVi"
      },
      "execution_count": null,
      "outputs": []
    },
    {
      "cell_type": "code",
      "source": [
        "# 1. 키보드로 입력값을 받는 함수\n",
        "start, stop = rangeInput()\n",
        "\n",
        "# 2. 시작값부터 종료값까지 다 더하는 함수\n",
        "result = sumAll(start, stop)\n",
        "\n",
        "# 3. 결과값을 출력하는 함수\n",
        "resultDisplay(start,stop,result)"
      ],
      "metadata": {
        "colab": {
          "base_uri": "https://localhost:8080/"
        },
        "id": "3AoEzvWsibo1",
        "outputId": "89aa2a93-1138-4688-df43-40ce500c5c7e"
      },
      "execution_count": null,
      "outputs": [
        {
          "output_type": "stream",
          "name": "stdout",
          "text": [
            "1\n",
            "start: 1\n",
            "100000\n",
            "stop: 100000\n",
            "start : 1\n",
            "stop  : 100000\n",
            "result: 5000050000\n"
          ]
        }
      ]
    },
    {
      "cell_type": "code",
      "source": [
        "DEBUG = False\n",
        "\n",
        "# 프로그램을 3개의 파트로 분리\n",
        "# 1. 키보드로 부터 입력\n",
        "\n",
        "def Keyinput():\n",
        "    op1 = int(input(\"시작값을 입력하시오 : \"))\n",
        "    op2 = int(input(\"종료값을 입력하시오 : \"))\n",
        "\n",
        "    if DEBUG==True:\n",
        "        print(type(op1), type(op2))\n",
        "\n",
        "    return op1, op2\n",
        "\n",
        "\n",
        "#2. 시작값부터 종료값까지 다 더하기 함수\n",
        "def sumAll(sValue, eValue):\n",
        "    sum = 0\n",
        "    for i in range(sValue, eValue+1):\n",
        "        sum = sum + i\n",
        "        if DEBUG==True:\n",
        "            print(sum)\n",
        "\n",
        "    return sum\n",
        "\n",
        "\n",
        "def resultDisp(sValue, eValue, sum):\n",
        "    print(\"start Value : {}\".format(sValue))\n",
        "    print(\"end Value : {}\".format(eValue))\n",
        "    print(\"sum Value : {}\".format(sum))"
      ],
      "metadata": {
        "id": "CsFv63f_mIDQ"
      },
      "execution_count": 71,
      "outputs": []
    },
    {
      "cell_type": "code",
      "source": [
        "sumAll(1, 10)"
      ],
      "metadata": {
        "colab": {
          "base_uri": "https://localhost:8080/"
        },
        "id": "lZD60toUM7qw",
        "outputId": "d557add2-4a17-4a95-fd6a-51c810a87a28"
      },
      "execution_count": 68,
      "outputs": [
        {
          "output_type": "stream",
          "name": "stdout",
          "text": [
            "1\n",
            "3\n",
            "6\n",
            "10\n",
            "15\n",
            "21\n",
            "28\n",
            "36\n",
            "45\n",
            "55\n"
          ]
        }
      ]
    },
    {
      "cell_type": "code",
      "source": [
        "sValue, eValue = Keyinput()\n",
        "sum = sumAll(sValue, eValue)\n",
        "resultDisp(sValue, eValue, sum)\n",
        "\n"
      ],
      "metadata": {
        "colab": {
          "base_uri": "https://localhost:8080/"
        },
        "id": "dbxtM-QPK16N",
        "outputId": "5d18865c-02e6-45c4-8baf-9a501a0a6939"
      },
      "execution_count": 74,
      "outputs": [
        {
          "output_type": "stream",
          "name": "stdout",
          "text": [
            "시작값을 입력하시오 : 1\n",
            "종료값을 입력하시오 : 1000\n",
            "start Value : 1\n",
            "end Value : 1000\n",
            "sum Value : 500500\n"
          ]
        }
      ]
    },
    {
      "cell_type": "code",
      "source": [
        "# 1 X 1   1 X 2  1 X 3  1 X 4   1 X 5 ...\n",
        "# 2 X 1   2 X 2  2 X 3  2 X 4   2 X 5 ...\n",
        "\n",
        "# 9 X 1   9 X 2  9 X 3  9 X 4   9 X 5 ...\n",
        "\n",
        "list = []\n",
        "\n",
        "for i in range(1,10):\n",
        "    for j in range(1,10):\n",
        "        multiple = f\"{i} X {j}\".format(i, j)\n",
        "        list.append(multiple)\n",
        "\n",
        "print(*list, sep='\\n')\n"
      ],
      "metadata": {
        "id": "uA-czdHpMoX0"
      },
      "execution_count": null,
      "outputs": []
    },
    {
      "cell_type": "code",
      "source": [
        "x = []\n",
        "while True:\n",
        "    word = input('insert word(q:exit()) : ')\n",
        "\n",
        "    if word == \"q\":\n",
        "        break\n",
        "\n",
        "    x.append(word)\n",
        "\n",
        "print(x)\n",
        "\n",
        "\n"
      ],
      "metadata": {
        "colab": {
          "base_uri": "https://localhost:8080/"
        },
        "id": "VjCztzHghMso",
        "outputId": "831fda6e-4379-4a96-8c0f-38c3c5fce521"
      },
      "execution_count": 22,
      "outputs": [
        {
          "output_type": "stream",
          "name": "stdout",
          "text": [
            "insert word(q:exit()) : why\n",
            "insert word(q:exit()) : not\n",
            "insert word(q:exit()) : q\n",
            "['why', 'not']\n"
          ]
        }
      ]
    },
    {
      "cell_type": "code",
      "source": [
        "is_on = True\n",
        "words = []\n",
        "\n",
        "\n",
        "while is_on:\n",
        "    x = input('insert word(q:exit()) : ')\n",
        "    if x != \"q\":\n",
        "        words.append(x)\n",
        "    else:\n",
        "        print(words)\n"
      ],
      "metadata": {
        "colab": {
          "base_uri": "https://localhost:8080/",
          "height": 502
        },
        "id": "wVZO9U3xbXcn",
        "outputId": "33e82b06-d649-430b-9c15-ca4cc76aa563"
      },
      "execution_count": 21,
      "outputs": [
        {
          "output_type": "stream",
          "name": "stdout",
          "text": [
            "insert word(q:exit()) : 우리는\n",
            "insert word(q:exit()) : 집에\n",
            "insert word(q:exit()) : 간다\n",
            "insert word(q:exit()) : q\n",
            "['우리는', '집에', '간다']\n"
          ]
        },
        {
          "output_type": "error",
          "ename": "KeyboardInterrupt",
          "evalue": "ignored",
          "traceback": [
            "\u001b[0;31m---------------------------------------------------------------------------\u001b[0m",
            "\u001b[0;31mKeyboardInterrupt\u001b[0m                         Traceback (most recent call last)",
            "\u001b[0;32m<ipython-input-21-26ca893d95e9>\u001b[0m in \u001b[0;36m<cell line: 5>\u001b[0;34m()\u001b[0m\n\u001b[1;32m      4\u001b[0m \u001b[0;34m\u001b[0m\u001b[0m\n\u001b[1;32m      5\u001b[0m \u001b[0;32mwhile\u001b[0m \u001b[0mis_on\u001b[0m\u001b[0;34m:\u001b[0m\u001b[0;34m\u001b[0m\u001b[0;34m\u001b[0m\u001b[0m\n\u001b[0;32m----> 6\u001b[0;31m     \u001b[0mx\u001b[0m \u001b[0;34m=\u001b[0m \u001b[0minput\u001b[0m\u001b[0;34m(\u001b[0m\u001b[0;34m'insert word(q:exit()) : '\u001b[0m\u001b[0;34m)\u001b[0m\u001b[0;34m\u001b[0m\u001b[0;34m\u001b[0m\u001b[0m\n\u001b[0m\u001b[1;32m      7\u001b[0m     \u001b[0;32mif\u001b[0m \u001b[0mx\u001b[0m \u001b[0;34m!=\u001b[0m \u001b[0;34m\"q\"\u001b[0m\u001b[0;34m:\u001b[0m\u001b[0;34m\u001b[0m\u001b[0;34m\u001b[0m\u001b[0m\n\u001b[1;32m      8\u001b[0m         \u001b[0mwords\u001b[0m\u001b[0;34m.\u001b[0m\u001b[0mappend\u001b[0m\u001b[0;34m(\u001b[0m\u001b[0mx\u001b[0m\u001b[0;34m)\u001b[0m\u001b[0;34m\u001b[0m\u001b[0;34m\u001b[0m\u001b[0m\n",
            "\u001b[0;32m/usr/local/lib/python3.10/dist-packages/ipykernel/kernelbase.py\u001b[0m in \u001b[0;36mraw_input\u001b[0;34m(self, prompt)\u001b[0m\n\u001b[1;32m    849\u001b[0m                 \u001b[0;34m\"raw_input was called, but this frontend does not support input requests.\"\u001b[0m\u001b[0;34m\u001b[0m\u001b[0;34m\u001b[0m\u001b[0m\n\u001b[1;32m    850\u001b[0m             )\n\u001b[0;32m--> 851\u001b[0;31m         return self._input_request(str(prompt),\n\u001b[0m\u001b[1;32m    852\u001b[0m             \u001b[0mself\u001b[0m\u001b[0;34m.\u001b[0m\u001b[0m_parent_ident\u001b[0m\u001b[0;34m,\u001b[0m\u001b[0;34m\u001b[0m\u001b[0;34m\u001b[0m\u001b[0m\n\u001b[1;32m    853\u001b[0m             \u001b[0mself\u001b[0m\u001b[0;34m.\u001b[0m\u001b[0m_parent_header\u001b[0m\u001b[0;34m,\u001b[0m\u001b[0;34m\u001b[0m\u001b[0;34m\u001b[0m\u001b[0m\n",
            "\u001b[0;32m/usr/local/lib/python3.10/dist-packages/ipykernel/kernelbase.py\u001b[0m in \u001b[0;36m_input_request\u001b[0;34m(self, prompt, ident, parent, password)\u001b[0m\n\u001b[1;32m    893\u001b[0m             \u001b[0;32mexcept\u001b[0m \u001b[0mKeyboardInterrupt\u001b[0m\u001b[0;34m:\u001b[0m\u001b[0;34m\u001b[0m\u001b[0;34m\u001b[0m\u001b[0m\n\u001b[1;32m    894\u001b[0m                 \u001b[0;31m# re-raise KeyboardInterrupt, to truncate traceback\u001b[0m\u001b[0;34m\u001b[0m\u001b[0;34m\u001b[0m\u001b[0m\n\u001b[0;32m--> 895\u001b[0;31m                 \u001b[0;32mraise\u001b[0m \u001b[0mKeyboardInterrupt\u001b[0m\u001b[0;34m(\u001b[0m\u001b[0;34m\"Interrupted by user\"\u001b[0m\u001b[0;34m)\u001b[0m \u001b[0;32mfrom\u001b[0m \u001b[0;32mNone\u001b[0m\u001b[0;34m\u001b[0m\u001b[0;34m\u001b[0m\u001b[0m\n\u001b[0m\u001b[1;32m    896\u001b[0m             \u001b[0;32mexcept\u001b[0m \u001b[0mException\u001b[0m \u001b[0;32mas\u001b[0m \u001b[0me\u001b[0m\u001b[0;34m:\u001b[0m\u001b[0;34m\u001b[0m\u001b[0;34m\u001b[0m\u001b[0m\n\u001b[1;32m    897\u001b[0m                 \u001b[0mself\u001b[0m\u001b[0;34m.\u001b[0m\u001b[0mlog\u001b[0m\u001b[0;34m.\u001b[0m\u001b[0mwarning\u001b[0m\u001b[0;34m(\u001b[0m\u001b[0;34m\"Invalid Message:\"\u001b[0m\u001b[0;34m,\u001b[0m \u001b[0mexc_info\u001b[0m\u001b[0;34m=\u001b[0m\u001b[0;32mTrue\u001b[0m\u001b[0;34m)\u001b[0m\u001b[0;34m\u001b[0m\u001b[0;34m\u001b[0m\u001b[0m\n",
            "\u001b[0;31mKeyboardInterrupt\u001b[0m: Interrupted by user"
          ]
        }
      ]
    },
    {
      "cell_type": "code",
      "source": [],
      "metadata": {
        "id": "HGdq6-bmkkfr"
      },
      "execution_count": null,
      "outputs": []
    }
  ]
}